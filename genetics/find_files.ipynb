{
 "cells": [
  {
   "cell_type": "code",
   "execution_count": 3,
   "metadata": {},
   "outputs": [
    {
     "data": {
      "text/plain": [
       "['${workbench}/wb_command',\n",
       " '-metric-resample',\n",
       " '/cbica/projects/abcd_pfn_sex_diff/results/discovery/GamAnalysis/AtlasLoading/SexEffects/UnthreshAbsSum/Gam_Sex_Abs_sum_LH.fslr32k.func.gii',\n",
       " '/Users/sheilash/Desktop/projects/abcd_pfn_sex_diff/inputData/PennLINC_S-A_ArchetypalAxis_main_FSLRVertex/fs_LR-deformed_to-fsaverage.L.sphere.32k_fs_LR.surf.gii',\n",
       " '/Users/sheilash/Desktop/projects/abcd_pfn_sex_diff/inputData/PennLINC_S-A_ArchetypalAxis_main_FSaverage5/fsaverage5_std_sphere.L.10k_fsavg_L.surf.gii',\n",
       " 'ADAP_BARY_AREA',\n",
       " '/cbica/projects/abcd_pfn_sex_diff/results/discovery/GamAnalysis/AtlasLoading/SexEffects/UnthreshAbsSum/Gam_Sex_Abs_sum_LH.fsaverage5.func.gii',\n",
       " '-area-metrics',\n",
       " '/Users/sheilash/Desktop/projects/abcd_pfn_sex_diff/inputData/PennLINC_S-A_ArchetypalAxis_main_FSLRVertex/fs_LR.L.midthickness_va_avg.32k_fs_LR.shape.gii',\n",
       " '/Users/sheilash/Desktop/projects/abcd_pfn_sex_diff/inputData/PennLINC_S-A_ArchetypalAxis_main_FSaverage5/fsaverage5.L.midthickness_va_avg.10k_fsavg_L.shape.gii']"
      ]
     },
     "execution_count": 3,
     "metadata": {},
     "output_type": "execute_result"
    }
   ],
   "source": [
    "command_original = \"${workbench}/wb_command -metric-resample /cbica/projects/abcd_pfn_sex_diff/results/discovery/GamAnalysis/AtlasLoading/SexEffects/UnthreshAbsSum/Gam_Sex_Abs_sum_LH.fslr32k.func.gii /Users/sheilash/Desktop/projects/abcd_pfn_sex_diff/inputData/PennLINC_S-A_ArchetypalAxis_main_FSLRVertex/fs_LR-deformed_to-fsaverage.L.sphere.32k_fs_LR.surf.gii /Users/sheilash/Desktop/projects/abcd_pfn_sex_diff/inputData/PennLINC_S-A_ArchetypalAxis_main_FSaverage5/fsaverage5_std_sphere.L.10k_fsavg_L.surf.gii ADAP_BARY_AREA /cbica/projects/abcd_pfn_sex_diff/results/discovery/GamAnalysis/AtlasLoading/SexEffects/UnthreshAbsSum/Gam_Sex_Abs_sum_LH.fsaverage5.func.gii -area-metrics /Users/sheilash/Desktop/projects/abcd_pfn_sex_diff/inputData/PennLINC_S-A_ArchetypalAxis_main_FSLRVertex/fs_LR.L.midthickness_va_avg.32k_fs_LR.shape.gii /Users/sheilash/Desktop/projects/abcd_pfn_sex_diff/inputData/PennLINC_S-A_ArchetypalAxis_main_FSaverage5/fsaverage5.L.midthickness_va_avg.10k_fsavg_L.shape.gii\"\n",
    "file_paths_original = command_original.split(\" \")\n",
    "file_paths_original"
   ]
  },
  {
   "cell_type": "code",
   "execution_count": 1,
   "metadata": {},
   "outputs": [
    {
     "data": {
      "text/plain": [
       "['${workbench}/wb_command',\n",
       " '-metric-resample',\n",
       " '/Users/ashfrana/Desktop/code/abcd_sex_pfn_replication/genetics/SVM_Sex_Abs_sum_LH.fslr32k.func.gii',\n",
       " '',\n",
       " '/Users/ashfrana/Desktop/code/abcd_sex_pfn_replication/genetics/fs_LR-deformed_to-fsaverage.L.sphere.32k_fs_LR.surf.gii',\n",
       " '/Users/ashfrana/Desktop/code/abcd_sex_pfn_replication/genetics/fsaverage5_std_sphere.L.10k_fsavg_L.surf.gii',\n",
       " 'ADAP_BARY_AREA',\n",
       " '/cbica/projects/abcd_pfn_sex_diff/results/discovery/GamAnalysis/AtlasLoading/SexEffects/UnthreshAbsSum/Gam_Sex_Abs_sum_LH.fsaverage5.func.gii',\n",
       " '-area-metrics',\n",
       " '/Users/sheilash/Desktop/projects/abcd_pfn_sex_diff/inputData/PennLINC_S-A_ArchetypalAxis_main_FSLRVertex/fs_LR.L.midthickness_va_avg.32k_fs_LR.shape.gii',\n",
       " '/Users/sheilash/Desktop/projects/abcd_pfn_sex_diff/inputData/PennLINC_S-A_ArchetypalAxis_main_FSaverage5/fsaverage5.L.midthickness_va_avg.10k_fsavg_L.shape.gii']"
      ]
     },
     "execution_count": 1,
     "metadata": {},
     "output_type": "execute_result"
    }
   ],
   "source": [
    "command = \"${workbench}/wb_command -metric-resample /Users/ashfrana/Desktop/code/abcd_sex_pfn_replication/genetics/SVM_Sex_Abs_sum_LH.fslr32k.func.gii  /Users/ashfrana/Desktop/code/abcd_sex_pfn_replication/genetics/fs_LR-deformed_to-fsaverage.L.sphere.32k_fs_LR.surf.gii /Users/ashfrana/Desktop/code/abcd_sex_pfn_replication/genetics/fsaverage5_std_sphere.L.10k_fsavg_L.surf.gii ADAP_BARY_AREA /cbica/projects/abcd_pfn_sex_diff/results/discovery/GamAnalysis/AtlasLoading/SexEffects/UnthreshAbsSum/Gam_Sex_Abs_sum_LH.fsaverage5.func.gii -area-metrics /Users/sheilash/Desktop/projects/abcd_pfn_sex_diff/inputData/PennLINC_S-A_ArchetypalAxis_main_FSLRVertex/fs_LR.L.midthickness_va_avg.32k_fs_LR.shape.gii /Users/sheilash/Desktop/projects/abcd_pfn_sex_diff/inputData/PennLINC_S-A_ArchetypalAxis_main_FSaverage5/fsaverage5.L.midthickness_va_avg.10k_fsavg_L.shape.gii\"\n",
    "file_paths = command.split(\" \")\n",
    "file_paths"
   ]
  },
  {
   "cell_type": "code",
   "execution_count": 2,
   "metadata": {},
   "outputs": [
    {
     "data": {
      "text/plain": [
       "['${workbench}/wb_command',\n",
       " '-metric-resample',\n",
       " '/Users/sheilash/Desktop/projects/abcd_pfn_sex_diff/inputData/PennLINC_S-A_ArchetypalAxis_main_FSLRVertex/SensorimotorAssociation_Axis_RH.fslr32k.func.gii',\n",
       " '/Users/sheilash/Desktop/projects/abcd_pfn_sex_diff/inputData/PennLINC_S-A_ArchetypalAxis_main_FSLRVertex/fs_LR-deformed_to-fsaverage.R.sphere.32k_fs_LR.surf.gii',\n",
       " '/Users/sheilash/Desktop/projects/abcd_pfn_sex_diff/inputData/PennLINC_S-A_ArchetypalAxis_main_FSaverage5/fsaverage5_std_sphere.R.10k_fsavg_R.surf.gii',\n",
       " 'ADAP_BARY_AREA',\n",
       " '/cbica/projects/abcd_pfn_sex_diff/results/discovery/GamAnalysis/AtlasLoading/SexEffects/UnthreshAbsSum/Gam_Sex_Abs_sum_RH.fsaverage5.func.gii',\n",
       " '-area-metrics',\n",
       " '/Users/sheilash/Desktop/projects/abcd_pfn_sex_diff/inputData/PennLINC_S-A_ArchetypalAxis_main_FSLRVertex/fs_LR.R.midthickness_va_avg.32k_fs_LR.shape.gii',\n",
       " '/Users/sheilash/Desktop/projects/abcd_pfn_sex_diff/inputData/PennLINC_S-A_ArchetypalAxis_main_FSaverage5/fsaverage5.R.midthickness_va_avg.10k_fsavg_R.shape.gii']"
      ]
     },
     "execution_count": 2,
     "metadata": {},
     "output_type": "execute_result"
    }
   ],
   "source": [
    "command2 = \"${workbench}/wb_command -metric-resample /Users/sheilash/Desktop/projects/abcd_pfn_sex_diff/inputData/PennLINC_S-A_ArchetypalAxis_main_FSLRVertex/SensorimotorAssociation_Axis_RH.fslr32k.func.gii /Users/sheilash/Desktop/projects/abcd_pfn_sex_diff/inputData/PennLINC_S-A_ArchetypalAxis_main_FSLRVertex/fs_LR-deformed_to-fsaverage.R.sphere.32k_fs_LR.surf.gii /Users/sheilash/Desktop/projects/abcd_pfn_sex_diff/inputData/PennLINC_S-A_ArchetypalAxis_main_FSaverage5/fsaverage5_std_sphere.R.10k_fsavg_R.surf.gii ADAP_BARY_AREA /cbica/projects/abcd_pfn_sex_diff/results/discovery/GamAnalysis/AtlasLoading/SexEffects/UnthreshAbsSum/Gam_Sex_Abs_sum_RH.fsaverage5.func.gii -area-metrics /Users/sheilash/Desktop/projects/abcd_pfn_sex_diff/inputData/PennLINC_S-A_ArchetypalAxis_main_FSLRVertex/fs_LR.R.midthickness_va_avg.32k_fs_LR.shape.gii /Users/sheilash/Desktop/projects/abcd_pfn_sex_diff/inputData/PennLINC_S-A_ArchetypalAxis_main_FSaverage5/fsaverage5.R.midthickness_va_avg.10k_fsavg_R.shape.gii\"\n",
    "file_paths2 = command2.split(\" \")\n",
    "file_paths2"
   ]
  }
 ],
 "metadata": {
  "kernelspec": {
   "display_name": "Python 3",
   "language": "python",
   "name": "python3"
  },
  "language_info": {
   "codemirror_mode": {
    "name": "ipython",
    "version": 3
   },
   "file_extension": ".py",
   "mimetype": "text/x-python",
   "name": "python",
   "nbconvert_exporter": "python",
   "pygments_lexer": "ipython3",
   "version": "3.12.2"
  }
 },
 "nbformat": 4,
 "nbformat_minor": 2
}
